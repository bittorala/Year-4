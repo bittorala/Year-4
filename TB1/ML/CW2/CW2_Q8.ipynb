{
 "cells": [
  {
   "cell_type": "code",
   "execution_count": 99,
   "metadata": {
    "scrolled": true
   },
   "outputs": [
    {
     "name": "stdout",
     "output_type": "stream",
     "text": [
      "22420 60251 0.4685994647636039 0.1206784949627392\n"
     ]
    }
   ],
   "source": [
    "import numpy as np\n",
    "import matplotlib.pyplot as plt\n",
    "#from scipy.misc import imread\n",
    "import matplotlib.image as mpimg\n",
    "\n",
    "foreground = mpimg.imread('foreground.png')\n",
    "background = mpimg.imread('background.png')\n",
    "picture = mpimg.imread('picture.png')\n",
    "#print(foreground,background)\n",
    "\n",
    "nrows = foreground.shape[0]\n",
    "ncols = foreground.shape[1]\n",
    "\n",
    "fhist = np.zeros((256,256,256))\n",
    "bhist = np.zeros((256,256,256))\n",
    "\n",
    "fgpixels = 0\n",
    "bgpixels = 0\n",
    "\n",
    "for row in range(0,nrows):\n",
    "    for col in range(0,ncols):\n",
    "        #background first. pixels not in the background are in white\n",
    "        r = int(background[row,col,0]*255);\n",
    "        g = int(255*background[row,col,1]);\n",
    "        b = int(255*background[row,col,2]);\n",
    "        if (r!=255 or g!=255 or b!=255):\n",
    "            bhist[r,g,b] += 1;\n",
    "            bgpixels = bgpixels+1;\n",
    "        #foreground now. pixels not in the foreground are in black\n",
    "        r = int(foreground[row,col,0]*255);\n",
    "        g = int(255*foreground[row,col,1]);\n",
    "        b = int(255*foreground[row,col,2]);\n",
    "        if (r!=0 or g!=0 or b!=0):\n",
    "            fhist[r,g,b] += 1;\n",
    "            fgpixels = fgpixels+1;\n",
    "            \n",
    "fhist /= fgpixels;\n",
    "bhist /= bgpixels;\n",
    "\n",
    "print(fgpixels,bgpixels,fhist[0,255,0],bhist[255,0,0])\n",
    "\n",
    "def neighbours(i,j,M,N,size=8):\n",
    "    if size==4:\n",
    "        if (i==0 and j==0):\n",
    "            n=[(0,1), (1,0)]\n",
    "        elif i==0 and j==N-1:\n",
    "            n=[(0,N-2), (1,N-1)]\n",
    "        elif i==M-1 and j==0:\n",
    "            n=[(M-1,1), (M-2,0)]\n",
    "        elif i==M-1 and j==N-1:\n",
    "            n=[(M-1,N-2), (M-2,N-1)]\n",
    "        elif i==0:\n",
    "            n=[(0,j-1), (0,j+1), (1,j)]\n",
    "        elif i==M-1:\n",
    "            n=[(M-1,j-1), (M-1,j+1), (M-2,j)]\n",
    "        elif j==0:\n",
    "            n=[(i-1,0), (i+1,0), (i,1)]\n",
    "        elif j==N-1:\n",
    "            n=[(i-1,N-1), (i+1,N-1), (i,N-2)]\n",
    "        else:\n",
    "            n=[(i-1,j), (i+1,j), (i,j-1), (i,j+1)]\n",
    "            \n",
    "        n = np.array(n)\n",
    "        return n\n",
    "\n",
    "    if size==8:\n",
    "        if (i==0 and j==0):\n",
    "            n=[(0,1), (1,0), (1,1)]\n",
    "        elif i==0 and j==N-1:\n",
    "            n=[(0,N-2), (1,N-1), (1,N-2)]\n",
    "        elif i==M-1 and j==0:\n",
    "            n=[(M-1,1), (M-2,0),(M-2,1)]\n",
    "        elif i==M-1 and j==N-1:\n",
    "            n=[(M-1,N-2), (M-2,N-1),(M-2,N-2)]\n",
    "        elif i==0:\n",
    "            n=[(0,j-1), (0,j+1), (1,j),(1,j-1),(1,j+1)]\n",
    "        elif i==M-1:\n",
    "            n=[(M-1,j-1), (M-1,j+1), (M-2,j),(M-2,j-1),(M-2,j+1)]\n",
    "        elif j==0:\n",
    "            n=[(i-1,0), (i+1,0), (i,1),(i-1,1),(i+1,1)]\n",
    "        elif j==N-1:\n",
    "            n=[(i-1,N-1), (i+1,N-1), (i,N-2),(i-1,N-2),(i+1,N-2)]\n",
    "        else:\n",
    "            n=[(i-1,j), (i+1,j), (i,j-1), (i,j+1),(i-1,j-1),(i-1,j+1),(i+1,j-1),(i+1,j+1)]\n",
    "        n = np.array(n)\n",
    "        return n"
   ]
  },
  {
   "cell_type": "code",
   "execution_count": 100,
   "metadata": {},
   "outputs": [],
   "source": [
    "def varBayes(y,niterations,weight):\n",
    "    rows = y.shape[0]\n",
    "    cols = y.shape[1]\n",
    "    x = np.zeros((rows,cols))\n",
    "    #mu = np.matrix.copy(y)\n",
    "    mu = np.zeros((rows,cols))\n",
    "    m = np.zeros((rows,cols))\n",
    "    for tau in range(0,niterations):\n",
    "        for row in range(0,rows):\n",
    "            for col in range(0,cols):\n",
    "                m[row,col]=0\n",
    "                neigbs = neighbours(row,col,rows,cols,8)\n",
    "                r = int(y[row,col,0]*255);\n",
    "                g = int(y[row,col,1]*255);\n",
    "                b = int(y[row,col,2]*255);\n",
    "                Li1 = fhist[r,g,b]\n",
    "                Lim1 = bhist[r,g,b]\n",
    "                #print(Li1)\n",
    "                for j in range(0,neigbs.shape[0]):\n",
    "                    m[row,col] += weight*mu[neigbs[j][0]][neigbs[j][1]]\n",
    "                # The most reasonable is to take weights of 1/8 or less\n",
    "                mu[row,col] = np.tanh(m[row,col]+1/2*(Li1-Lim1))\n",
    "                if mu[row,col] > 0:\n",
    "                    x[row,col] = 1\n",
    "                else:\n",
    "                    x[row,col] = -1\n",
    "                    \n",
    "    return x "
   ]
  },
  {
   "cell_type": "code",
   "execution_count": 104,
   "metadata": {},
   "outputs": [
    {
     "data": {
      "text/plain": [
       "<matplotlib.image.AxesImage at 0x7fef989a0a20>"
      ]
     },
     "execution_count": 104,
     "metadata": {},
     "output_type": "execute_result"
    },
    {
     "data": {
      "image/png": "[encoded data removed]",
      "text/plain": [
       "<Figure size 432x288 with 1 Axes>"
      ]
     },
     "metadata": {
      "needs_background": "light"
     },
     "output_type": "display_data"
    }
   ],
   "source": [
    "segmentation = varBayes(picture,3,1/8)\n",
    "plt.imshow(segmentation,cmap='gray')"
   ]
  },
  {
   "cell_type": "code",
   "execution_count": 84,
   "metadata": {},
   "outputs": [
    {
     "data": {
      "text/plain": [
       "0.0"
      ]
     },
     "execution_count": 84,
     "metadata": {},
     "output_type": "execute_result"
    }
   ],
   "source": []
  },
  {
   "cell_type": "code",
   "execution_count": null,
   "metadata": {},
   "outputs": [],
   "source": []
  }
 ],
 "metadata": {
  "kernelspec": {
   "display_name": "Python 3",
   "language": "python",
   "name": "python3"
  },
  "language_info": {
   "codemirror_mode": {
    "name": "ipython",
    "version": 3
   },
   "file_extension": ".py",
   "mimetype": "text/x-python",
   "name": "python",
   "nbconvert_exporter": "python",
   "pygments_lexer": "ipython3",
   "version": "3.7.0"
  }
 },
 "nbformat": 4,
 "nbformat_minor": 2
}
